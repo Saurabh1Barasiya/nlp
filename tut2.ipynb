{
  "nbformat": 4,
  "nbformat_minor": 0,
  "metadata": {
    "colab": {
      "name": "tut2.ipynb",
      "provenance": [],
      "authorship_tag": "ABX9TyOnInEyUoZzFNy+UjiItojR",
      "include_colab_link": true
    },
    "kernelspec": {
      "name": "python3",
      "display_name": "Python 3"
    }
  },
  "cells": [
    {
      "cell_type": "markdown",
      "metadata": {
        "id": "view-in-github",
        "colab_type": "text"
      },
      "source": [
        "<a href=\"https://colab.research.google.com/github/Saurabh1Barasiya/nlp/blob/master/tut2.ipynb\" target=\"_parent\"><img src=\"https://colab.research.google.com/assets/colab-badge.svg\" alt=\"Open In Colab\"/></a>"
      ]
    },
    {
      "cell_type": "code",
      "metadata": {
        "id": "ufT38ku8-WFw",
        "colab_type": "code",
        "colab": {}
      },
      "source": [
        "import numpy as np\n",
        "import pandas as pd\n",
        "import spacy\n",
        "import nltk"
      ],
      "execution_count": 1,
      "outputs": []
    },
    {
      "cell_type": "code",
      "metadata": {
        "id": "7ouqXi58-i2Y",
        "colab_type": "code",
        "colab": {}
      },
      "source": [
        "nlp = spacy.load('en_core_web_sm')"
      ],
      "execution_count": 2,
      "outputs": []
    },
    {
      "cell_type": "code",
      "metadata": {
        "id": "lRFi1JD_-4PK",
        "colab_type": "code",
        "colab": {
          "base_uri": "https://localhost:8080/",
          "height": 51
        },
        "outputId": "8ddcf0bc-ef80-439c-f0a3-a0c06639fcd8"
      },
      "source": [
        "doc = nlp(u\"We're here to help! Send snail-mail, email fahad@gmail.com or visit us at http://www.fahadhussaincs.blogspot.com!\")\n",
        "print(\"original string length\",len(\"We're here to help! Send snail-mail, email fahad@gmail.com or visit us at http://www.fahadhussaincs.blogspot.com!\"))\n",
        "print(\"nlp string length\",len(doc))"
      ],
      "execution_count": 8,
      "outputs": [
        {
          "output_type": "stream",
          "text": [
            "original string length 113\n",
            "nlp string length 19\n"
          ],
          "name": "stdout"
        }
      ]
    },
    {
      "cell_type": "code",
      "metadata": {
        "id": "cDTw43Zp-6Gn",
        "colab_type": "code",
        "colab": {
          "base_uri": "https://localhost:8080/",
          "height": 340
        },
        "outputId": "0210be6e-f059-453a-b9b9-5ad049330036"
      },
      "source": [
        "for token in doc:\n",
        "  print(token)"
      ],
      "execution_count": 11,
      "outputs": [
        {
          "output_type": "stream",
          "text": [
            "We\n",
            "'re\n",
            "here\n",
            "to\n",
            "help\n",
            "!\n",
            "Send\n",
            "snail\n",
            "-\n",
            "mail\n",
            ",\n",
            "email\n",
            "fahad@gmail.com\n",
            "or\n",
            "visit\n",
            "us\n",
            "at\n",
            "http://www.fahadhussaincs.blogspot.com\n",
            "!\n"
          ],
          "name": "stdout"
        }
      ]
    },
    {
      "cell_type": "code",
      "metadata": {
        "id": "fqIWXotk_aXr",
        "colab_type": "code",
        "colab": {
          "base_uri": "https://localhost:8080/",
          "height": 170
        },
        "outputId": "33aac2a9-e8c4-4c7a-d6aa-df470cc18fef"
      },
      "source": [
        "doc3 = nlp(u'A 5km NYC cab ride costs $10.30')\n",
        "for t in doc3:\n",
        "    print(t)"
      ],
      "execution_count": 12,
      "outputs": [
        {
          "output_type": "stream",
          "text": [
            "A\n",
            "5\n",
            "km\n",
            "NYC\n",
            "cab\n",
            "ride\n",
            "costs\n",
            "$\n",
            "10.30\n"
          ],
          "name": "stdout"
        }
      ]
    },
    {
      "cell_type": "code",
      "metadata": {
        "id": "2t1kPdXzAFJA",
        "colab_type": "code",
        "colab": {
          "base_uri": "https://localhost:8080/",
          "height": 204
        },
        "outputId": "2b240cd9-34f6-46e4-8310-bd4ecf7c8083"
      },
      "source": [
        "doc4 = nlp(u\"Let's visit St. Louis in the U.S. next year.\")\n",
        "for t in doc4:\n",
        "    print(t)"
      ],
      "execution_count": 13,
      "outputs": [
        {
          "output_type": "stream",
          "text": [
            "Let\n",
            "'s\n",
            "visit\n",
            "St.\n",
            "Louis\n",
            "in\n",
            "the\n",
            "U.S.\n",
            "next\n",
            "year\n",
            ".\n"
          ],
          "name": "stdout"
        }
      ]
    },
    {
      "cell_type": "code",
      "metadata": {
        "id": "qMwpmNjWAKkm",
        "colab_type": "code",
        "colab": {}
      },
      "source": [
        " # ----   Porter Stemmer   ------"
      ],
      "execution_count": 14,
      "outputs": []
    },
    {
      "cell_type": "code",
      "metadata": {
        "id": "0VBFTPeOAQZg",
        "colab_type": "code",
        "colab": {}
      },
      "source": [
        "# Import the toolkit and the full Porter Stemmer library\n",
        "import nltk\n",
        "from nltk.stem.porter import *"
      ],
      "execution_count": 16,
      "outputs": []
    },
    {
      "cell_type": "code",
      "metadata": {
        "id": "G0IlBqPVAVMa",
        "colab_type": "code",
        "colab": {}
      },
      "source": [
        "p_stemmer = PorterStemmer()\n",
        "words = ['run','runner','running','ran','runs','easily','fairly']"
      ],
      "execution_count": 18,
      "outputs": []
    },
    {
      "cell_type": "code",
      "metadata": {
        "id": "vHV_nEEJAnjC",
        "colab_type": "code",
        "colab": {
          "base_uri": "https://localhost:8080/",
          "height": 136
        },
        "outputId": "616c25df-c20e-4780-daf3-1de6c67bb312"
      },
      "source": [
        "for word in words:\n",
        "    convert = p_stemmer.stem(word)\n",
        "    print(f\"original ----> {word:{10}}    Stemmer  words-------> {convert:{10}}   \") "
      ],
      "execution_count": 24,
      "outputs": [
        {
          "output_type": "stream",
          "text": [
            "original ----> run           Stemmer  words-------> run          \n",
            "original ----> runner        Stemmer  words-------> runner       \n",
            "original ----> running       Stemmer  words-------> run          \n",
            "original ----> ran           Stemmer  words-------> ran          \n",
            "original ----> runs          Stemmer  words-------> run          \n",
            "original ----> easily        Stemmer  words-------> easili       \n",
            "original ----> fairly        Stemmer  words-------> fairli       \n"
          ],
          "name": "stdout"
        }
      ]
    },
    {
      "cell_type": "code",
      "metadata": {
        "id": "tuAlc8SQA9KT",
        "colab_type": "code",
        "colab": {}
      },
      "source": [
        "# SnowballStemmer"
      ],
      "execution_count": 25,
      "outputs": []
    },
    {
      "cell_type": "code",
      "metadata": {
        "id": "oqdl86NIB4Np",
        "colab_type": "code",
        "colab": {}
      },
      "source": [
        "from nltk.stem.snowball import SnowballStemmer\n",
        "# The Snowball Stemmer requires that you pass a language parameter\n",
        "s_stemmer = SnowballStemmer(language='english')"
      ],
      "execution_count": 26,
      "outputs": []
    },
    {
      "cell_type": "code",
      "metadata": {
        "id": "vP5ojgndB9By",
        "colab_type": "code",
        "colab": {}
      },
      "source": [
        "words = ['run','runner','running','ran','runs','easily','fairly']"
      ],
      "execution_count": 27,
      "outputs": []
    },
    {
      "cell_type": "code",
      "metadata": {
        "id": "t_xDfrSOCAe2",
        "colab_type": "code",
        "colab": {
          "base_uri": "https://localhost:8080/",
          "height": 136
        },
        "outputId": "b265c287-35c5-4cb4-f13c-d6158451bd65"
      },
      "source": [
        "for word in words:\n",
        "    print(f\"Origianl word ----> {word:{10}}   Snowball_stemer -----> {s_stemmer.stem(word)}\")"
      ],
      "execution_count": 28,
      "outputs": [
        {
          "output_type": "stream",
          "text": [
            "Origianl word ----> run          Snowball_stemer -----> run\n",
            "Origianl word ----> runner       Snowball_stemer -----> runner\n",
            "Origianl word ----> running      Snowball_stemer -----> run\n",
            "Origianl word ----> ran          Snowball_stemer -----> ran\n",
            "Origianl word ----> runs         Snowball_stemer -----> run\n",
            "Origianl word ----> easily       Snowball_stemer -----> easili\n",
            "Origianl word ----> fairly       Snowball_stemer -----> fair\n"
          ],
          "name": "stdout"
        }
      ]
    },
    {
      "cell_type": "code",
      "metadata": {
        "id": "oTC0fjV3CiAp",
        "colab_type": "code",
        "colab": {
          "base_uri": "https://localhost:8080/",
          "height": 51
        },
        "outputId": "b6e847c3-37f8-4775-ced1-74bcc7f9929d"
      },
      "source": [
        "words = ['consolingly']\n",
        "print('Porter Stemmer:')\n",
        "for word in words:\n",
        "    print(word+' -->'+p_stemmer.stem(word))"
      ],
      "execution_count": 31,
      "outputs": [
        {
          "output_type": "stream",
          "text": [
            "Porter Stemmer:\n",
            "consolingly -->consolingli\n"
          ],
          "name": "stdout"
        }
      ]
    },
    {
      "cell_type": "code",
      "metadata": {
        "id": "hLM0_MdICuGy",
        "colab_type": "code",
        "colab": {
          "base_uri": "https://localhost:8080/",
          "height": 51
        },
        "outputId": "cc8e40c6-15a0-4290-f7e0-1c2fbf06f529"
      },
      "source": [
        "print('Porter2 Stemmer:')\n",
        "for word in words:\n",
        "    print(word+'-->'+s_stemmer.stem(word))"
      ],
      "execution_count": 32,
      "outputs": [
        {
          "output_type": "stream",
          "text": [
            "Porter2 Stemmer:\n",
            "consolingly-->consol\n"
          ],
          "name": "stdout"
        }
      ]
    },
    {
      "cell_type": "code",
      "metadata": {
        "id": "dpJWlPSjC8rH",
        "colab_type": "code",
        "colab": {
          "base_uri": "https://localhost:8080/",
          "height": 153
        },
        "outputId": "527651b8-ed88-402c-c1e1-68a3a7fa2980"
      },
      "source": [
        "# Stemming has its drawbacks. If given the token saw, stemming might always return saw, whereas lemmatization would likely return either\n",
        "# see or saw depending on whether the use of the token was as a verb or a noun. As an example, consider the following:\n",
        "phrase = 'I am meeting him tomorrow at the meeting'\n",
        "for word in phrase.split():\n",
        "    print(f\"original word ----> {word:{10}} convert word ---->   {s_stemmer.stem(word):{10}}\") "
      ],
      "execution_count": 41,
      "outputs": [
        {
          "output_type": "stream",
          "text": [
            "original word ----> I          convert word ---->   i         \n",
            "original word ----> am         convert word ---->   am        \n",
            "original word ----> meeting    convert word ---->   meet      \n",
            "original word ----> him        convert word ---->   him       \n",
            "original word ----> tomorrow   convert word ---->   tomorrow  \n",
            "original word ----> at         convert word ---->   at        \n",
            "original word ----> the        convert word ---->   the       \n",
            "original word ----> meeting    convert word ---->   meet      \n"
          ],
          "name": "stdout"
        }
      ]
    },
    {
      "cell_type": "code",
      "metadata": {
        "id": "9dV4laoIEkiF",
        "colab_type": "code",
        "colab": {}
      },
      "source": [
        ""
      ],
      "execution_count": 41,
      "outputs": []
    },
    {
      "cell_type": "code",
      "metadata": {
        "id": "PV-AMpM9Eygb",
        "colab_type": "code",
        "colab": {}
      },
      "source": [
        "# Perform standard imports:\n",
        "import spacy\n",
        "nlp = spacy.load('en_core_web_sm')"
      ],
      "execution_count": 42,
      "outputs": []
    },
    {
      "cell_type": "code",
      "metadata": {
        "id": "ql2BZAZ2FoTP",
        "colab_type": "code",
        "colab": {
          "base_uri": "https://localhost:8080/",
          "height": 272
        },
        "outputId": "a042791c-157d-4ef6-b439-b9c233b40fe4"
      },
      "source": [
        "var1 = nlp(u\"John Adam is one the researcher who invent the direction of way towards success!\")\n",
        "for token in var1:\n",
        "    print(token.text, '\\t', token.pos_, '\\t', token.lemma, '\\t', token.lemma_)"
      ],
      "execution_count": 44,
      "outputs": [
        {
          "output_type": "stream",
          "text": [
            "John \t PROPN \t 11174346320140919546 \t John\n",
            "Adam \t PROPN \t 14264057329400597350 \t Adam\n",
            "is \t AUX \t 10382539506755952630 \t be\n",
            "one \t NOUN \t 17454115351911680600 \t one\n",
            "the \t DET \t 7425985699627899538 \t the\n",
            "researcher \t NOUN \t 1317581537614213870 \t researcher\n",
            "who \t PRON \t 3876862883474502309 \t who\n",
            "invent \t VERB \t 5373681334090504585 \t invent\n",
            "the \t DET \t 7425985699627899538 \t the\n",
            "direction \t NOUN \t 895834437038626927 \t direction\n",
            "of \t ADP \t 886050111519832510 \t of\n",
            "way \t NOUN \t 6878210874361030284 \t way\n",
            "towards \t ADP \t 9315050841437086371 \t towards\n",
            "success \t NOUN \t 16089821935113899987 \t success\n",
            "! \t PUNCT \t 17494803046312582752 \t !\n"
          ],
          "name": "stdout"
        }
      ]
    },
    {
      "cell_type": "code",
      "metadata": {
        "id": "cUGetvtvFswp",
        "colab_type": "code",
        "colab": {
          "base_uri": "https://localhost:8080/",
          "height": 272
        },
        "outputId": "41ba4b53-41ae-471a-dd0a-9c756a457d9a"
      },
      "source": [
        "for token in var1:\n",
        "    print(f\"{token.text:{10}}   {token.pos_:{10}}     {token.lemma:{10}}    {token.lemma_:{20}}\")  "
      ],
      "execution_count": 51,
      "outputs": [
        {
          "output_type": "stream",
          "text": [
            "John         PROPN          11174346320140919546    John                \n",
            "Adam         PROPN          14264057329400597350    Adam                \n",
            "is           AUX            10382539506755952630    be                  \n",
            "one          NOUN           17454115351911680600    one                 \n",
            "the          DET            7425985699627899538    the                 \n",
            "researcher   NOUN           1317581537614213870    researcher          \n",
            "who          PRON           3876862883474502309    who                 \n",
            "invent       VERB           5373681334090504585    invent              \n",
            "the          DET            7425985699627899538    the                 \n",
            "direction    NOUN           895834437038626927    direction           \n",
            "of           ADP            886050111519832510    of                  \n",
            "way          NOUN           6878210874361030284    way                 \n",
            "towards      ADP            9315050841437086371    towards             \n",
            "success      NOUN           16089821935113899987    success             \n",
            "!            PUNCT          17494803046312582752    !                   \n"
          ],
          "name": "stdout"
        }
      ]
    },
    {
      "cell_type": "code",
      "metadata": {
        "id": "-4o-NUjxGcly",
        "colab_type": "code",
        "colab": {}
      },
      "source": [
        "def show_lemmas(text):\n",
        "    for token in text:\n",
        "        print(f'{token.text:{12}} {token.pos_:{6}} {token.lemma:<{22}} {token.lemma_}')"
      ],
      "execution_count": 52,
      "outputs": []
    },
    {
      "cell_type": "code",
      "metadata": {
        "id": "euEXynswHGCw",
        "colab_type": "code",
        "colab": {
          "base_uri": "https://localhost:8080/",
          "height": 272
        },
        "outputId": "8bbaf4f1-0b6f-4d8b-8cea-30cbb27af355"
      },
      "source": [
        "var2 = nlp(u\"John Adam is one the researcher who invent the direction of way towards success!\")\n",
        "show_lemmas(var2)"
      ],
      "execution_count": 53,
      "outputs": [
        {
          "output_type": "stream",
          "text": [
            "John         PROPN  11174346320140919546   John\n",
            "Adam         PROPN  14264057329400597350   Adam\n",
            "is           AUX    10382539506755952630   be\n",
            "one          NOUN   17454115351911680600   one\n",
            "the          DET    7425985699627899538    the\n",
            "researcher   NOUN   1317581537614213870    researcher\n",
            "who          PRON   3876862883474502309    who\n",
            "invent       VERB   5373681334090504585    invent\n",
            "the          DET    7425985699627899538    the\n",
            "direction    NOUN   895834437038626927     direction\n",
            "of           ADP    886050111519832510     of\n",
            "way          NOUN   6878210874361030284    way\n",
            "towards      ADP    9315050841437086371    towards\n",
            "success      NOUN   16089821935113899987   success\n",
            "!            PUNCT  17494803046312582752   !\n"
          ],
          "name": "stdout"
        }
      ]
    },
    {
      "cell_type": "code",
      "metadata": {
        "id": "RqlyATQSHMlI",
        "colab_type": "code",
        "colab": {
          "base_uri": "https://localhost:8080/",
          "height": 170
        },
        "outputId": "62997119-0f1d-4c09-c270-bb7b07ee5d8f"
      },
      "source": [
        "var3 = nlp(u\"I am meeting him tomorrow at the meeting.\")\n",
        "show_lemmas(var3)"
      ],
      "execution_count": 54,
      "outputs": [
        {
          "output_type": "stream",
          "text": [
            "I            PRON   561228191312463089     -PRON-\n",
            "am           AUX    10382539506755952630   be\n",
            "meeting      VERB   6880656908171229526    meet\n",
            "him          PRON   561228191312463089     -PRON-\n",
            "tomorrow     NOUN   3573583789758258062    tomorrow\n",
            "at           ADP    11667289587015813222   at\n",
            "the          DET    7425985699627899538    the\n",
            "meeting      NOUN   14798207169164081740   meeting\n",
            ".            PUNCT  12646065887601541794   .\n"
          ],
          "name": "stdout"
        }
      ]
    },
    {
      "cell_type": "code",
      "metadata": {
        "id": "iAiweynAHa4z",
        "colab_type": "code",
        "colab": {
          "base_uri": "https://localhost:8080/",
          "height": 170
        },
        "outputId": "8797e9ea-1e84-49be-a870-a44ecdd0a600"
      },
      "source": [
        "var4 = nlp(u\"That's of the greate person in the world\")\n",
        "show_lemmas(var4)"
      ],
      "execution_count": 55,
      "outputs": [
        {
          "output_type": "stream",
          "text": [
            "That         DET    4380130941430378203    that\n",
            "'s           AUX    10382539506755952630   be\n",
            "of           ADP    886050111519832510     of\n",
            "the          DET    7425985699627899538    the\n",
            "greate       ADJ    4429768169814447593    greate\n",
            "person       NOUN   14800503047316267216   person\n",
            "in           ADP    3002984154512732771    in\n",
            "the          DET    7425985699627899538    the\n",
            "world        NOUN   1703489418272052182    world\n"
          ],
          "name": "stdout"
        }
      ]
    },
    {
      "cell_type": "code",
      "metadata": {
        "id": "pVpuuCuRHjG2",
        "colab_type": "code",
        "colab": {}
      },
      "source": [
        ""
      ],
      "execution_count": null,
      "outputs": []
    }
  ]
}