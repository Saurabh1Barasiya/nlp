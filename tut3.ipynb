{
  "nbformat": 4,
  "nbformat_minor": 0,
  "metadata": {
    "colab": {
      "name": "tut3.ipynb",
      "provenance": [],
      "authorship_tag": "ABX9TyN8y9DiPkwdvwrRwnzns37x",
      "include_colab_link": true
    },
    "kernelspec": {
      "name": "python3",
      "display_name": "Python 3"
    }
  },
  "cells": [
    {
      "cell_type": "markdown",
      "metadata": {
        "id": "view-in-github",
        "colab_type": "text"
      },
      "source": [
        "<a href=\"https://colab.research.google.com/github/Saurabh1Barasiya/nlp/blob/master/tut3.ipynb\" target=\"_parent\"><img src=\"https://colab.research.google.com/assets/colab-badge.svg\" alt=\"Open In Colab\"/></a>"
      ]
    },
    {
      "cell_type": "markdown",
      "metadata": {
        "id": "pgRzsBX9JPc2",
        "colab_type": "text"
      },
      "source": [
        "# Stop words"
      ]
    },
    {
      "cell_type": "markdown",
      "metadata": {
        "id": "BK7mQjS1JaS0",
        "colab_type": "text"
      },
      "source": [
        "## Stop words are those words that do not contribute to the deeper meaning of the phrase. They are the most common words such as: the, a, and is. For some applications like documentation classification, it may make sense to remove stop words. NLTK provides a list of commonly agreed upon stop words for a variety of languages, such as English.."
      ]
    },
    {
      "cell_type": "code",
      "metadata": {
        "id": "h65NN1lZIuwg",
        "colab_type": "code",
        "colab": {}
      },
      "source": [
        "# Perform standard imports:\n",
        "import spacy\n",
        "nlp = spacy.load('en_core_web_sm')"
      ],
      "execution_count": 2,
      "outputs": []
    },
    {
      "cell_type": "code",
      "metadata": {
        "id": "YxScoFZgJR4L",
        "colab_type": "code",
        "colab": {
          "base_uri": "https://localhost:8080/",
          "height": 68
        },
        "outputId": "2da8245b-5bd7-44e3-c337-6b1fb855bdc4"
      },
      "source": [
        "import nltk\n",
        "nltk.download('stopwords')"
      ],
      "execution_count": 4,
      "outputs": [
        {
          "output_type": "stream",
          "text": [
            "[nltk_data] Downloading package stopwords to /root/nltk_data...\n",
            "[nltk_data]   Unzipping corpora/stopwords.zip.\n"
          ],
          "name": "stdout"
        },
        {
          "output_type": "execute_result",
          "data": {
            "text/plain": [
              "True"
            ]
          },
          "metadata": {
            "tags": []
          },
          "execution_count": 4
        }
      ]
    },
    {
      "cell_type": "code",
      "metadata": {
        "id": "_nGhZnswJ6Em",
        "colab_type": "code",
        "colab": {
          "base_uri": "https://localhost:8080/",
          "height": 34
        },
        "outputId": "129773a5-ee0d-49e7-af42-204b62365a62"
      },
      "source": [
        "# Print the set of spaCy's default stop words (remember that sets are unordered):\n",
        "len(nlp.Defaults.stop_words)"
      ],
      "execution_count": 6,
      "outputs": [
        {
          "output_type": "execute_result",
          "data": {
            "text/plain": [
              "326"
            ]
          },
          "metadata": {
            "tags": []
          },
          "execution_count": 6
        }
      ]
    },
    {
      "cell_type": "code",
      "metadata": {
        "id": "1NDJVYR1KGsv",
        "colab_type": "code",
        "colab": {
          "base_uri": "https://localhost:8080/",
          "height": 54
        },
        "outputId": "6e1d3f66-2b49-4985-c82e-e049a418984d"
      },
      "source": [
        "print(nlp.Defaults.stop_words)"
      ],
      "execution_count": 8,
      "outputs": [
        {
          "output_type": "stream",
          "text": [
            "{'whereafter', 'why', 'namely', 'herein', 'empty', 'many', 'front', 'everything', 'down', 'moreover', 'seeming', 'therefore', 'whoever', 'us', 'whither', 'otherwise', 'though', 'serious', 'so', 'few', 'thus', 'various', 'ca', 'yourselves', 'anything', 'she', 'both', 'sometime', 'thereupon', 'ever', 'some', 'again', 'i', 'further', 'a', 'in', 'it', 'made', 'never', 'ourselves', 'enough', 'hereby', 'these', 'least', 'this', 'upon', 'amount', 'take', 'itself', 'since', 'therein', 'towards', 'n‘t', 'might', 'most', 'part', 'anyway', 'be', 'someone', 'becoming', 'out', 'done', 'thru', 'the', 'too', 'two', 'however', 'where', '‘d', 'anyone', 'thence', 'whole', 'without', 'go', 'via', 'even', 'four', 'eight', 'such', 'by', 'afterwards', '‘s', 'beforehand', 'them', 'noone', 'somehow', 'yet', 'neither', 'twenty', \"'ve\", 'who', '’m', 'hereupon', 'call', '’s', 'you', 'or', 'did', 'latterly', 'not', 'third', 'under', 'own', 'seemed', 'n’t', '’d', 'just', 'of', 'to', 'around', 'others', 'keep', \"'re\", 'always', 'mostly', 'her', 'now', 'whereupon', 'elsewhere', 'from', 'last', 'because', 'would', \"'d\", 'about', 'else', 'will', 'cannot', 'name', 'those', 'any', 'due', 'full', 'seem', 'if', \"'ll\", 'something', 'back', 'amongst', 'other', 'yourself', 'whom', 'often', '‘m', 'does', 'first', 'forty', 'which', 'although', '’ll', 'anywhere', 'beside', 'herself', 'more', 'behind', 'move', 'another', 'but', 'much', 'meanwhile', 'during', 'nothing', 'how', 'must', 'please', 'myself', 'none', 'several', 'becomes', '’re', 'per', 'has', 'nine', 'five', 'through', 'next', 'one', 'top', 'perhaps', '‘ve', 'become', 'can', 'wherever', 'only', 'and', 'before', 'eleven', 'make', 'he', 'its', 'show', 'their', 'twelve', 'give', 'alone', 'once', 'your', '‘re', 'became', 'toward', 'hers', 'get', 'same', 'whose', 'onto', 'were', 'above', 'here', 'already', 'across', 'ten', 'until', 'could', 'doing', 'besides', 'him', 'for', 'being', 'rather', 'sometimes', 'while', 'beyond', 'into', 'after', 'every', 'bottom', 'nobody', 'nor', 'was', 'sixty', '’ve', 'whence', 'mine', 'latter', 'very', 'whenever', 'still', 'whereas', 'fifty', 'me', 'may', \"'m\", 'fifteen', 'there', \"n't\", 'yours', \"'s\", 'really', 'each', 'also', 'do', 'used', 'himself', 'well', 'what', 'all', 'except', 'nevertheless', 'is', 'say', 'off', 'should', 'that', 'had', 'up', 'unless', 'side', 'we', 'whether', 'using', 'almost', 'with', 'formerly', 'quite', 'former', 'than', 'no', 'then', 'thereafter', 'themselves', 'regarding', 'everywhere', 'nowhere', 'when', 'am', 'between', 'see', 'along', 'ours', 'my', 'they', 'throughout', 'three', 'as', 'hereafter', 'less', 'thereby', 'over', 'whatever', 'at', 'wherein', 'whereby', 'against', 'within', '‘ll', 're', 'put', 'everyone', 'have', 'on', 'either', 'indeed', 'his', 'are', 'below', 'seems', 'six', 'an', 'somewhere', 'together', 'anyhow', 'among', 'hence', 'been', 'hundred', 'our'}\n"
          ],
          "name": "stdout"
        }
      ]
    },
    {
      "cell_type": "code",
      "metadata": {
        "id": "3N_vOyruKW4H",
        "colab_type": "code",
        "colab": {
          "base_uri": "https://localhost:8080/",
          "height": 34
        },
        "outputId": "c3319362-7175-4828-e734-fb049467bdb6"
      },
      "source": [
        "type(nlp.Defaults.stop_words)"
      ],
      "execution_count": 10,
      "outputs": [
        {
          "output_type": "execute_result",
          "data": {
            "text/plain": [
              "set"
            ]
          },
          "metadata": {
            "tags": []
          },
          "execution_count": 10
        }
      ]
    },
    {
      "cell_type": "markdown",
      "metadata": {
        "id": "lAjY1G_kLLoZ",
        "colab_type": "text"
      },
      "source": [
        "# To see if a word is a stop word"
      ]
    },
    {
      "cell_type": "code",
      "metadata": {
        "id": "8O94xG0cLOd6",
        "colab_type": "code",
        "colab": {
          "base_uri": "https://localhost:8080/",
          "height": 34
        },
        "outputId": "a4d3c69f-7c9f-44f5-d58f-3ac46bce24f2"
      },
      "source": [
        "nlp.vocab[\"saurabh\"].is_stop"
      ],
      "execution_count": 12,
      "outputs": [
        {
          "output_type": "execute_result",
          "data": {
            "text/plain": [
              "False"
            ]
          },
          "metadata": {
            "tags": []
          },
          "execution_count": 12
        }
      ]
    },
    {
      "cell_type": "code",
      "metadata": {
        "id": "Z6l5LppeLaHm",
        "colab_type": "code",
        "colab": {
          "base_uri": "https://localhost:8080/",
          "height": 34
        },
        "outputId": "d8294edc-7c1c-4abf-db27-e35f4dc45619"
      },
      "source": [
        "nlp.vocab[\"myself\"].is_stop"
      ],
      "execution_count": 13,
      "outputs": [
        {
          "output_type": "execute_result",
          "data": {
            "text/plain": [
              "True"
            ]
          },
          "metadata": {
            "tags": []
          },
          "execution_count": 13
        }
      ]
    },
    {
      "cell_type": "code",
      "metadata": {
        "id": "JfkSDFjoLi2r",
        "colab_type": "code",
        "colab": {}
      },
      "source": [
        "# Add the word to the set of stop words. Use lowercase!\n",
        "nlp.Defaults.stop_words.add(\"saurabh\")\n",
        "nlp.vocab[\"saurabh\"].is_stop = True"
      ],
      "execution_count": 15,
      "outputs": []
    },
    {
      "cell_type": "code",
      "metadata": {
        "id": "fHLOTUlCL7xT",
        "colab_type": "code",
        "colab": {
          "base_uri": "https://localhost:8080/",
          "height": 34
        },
        "outputId": "1f000a1e-dc16-4bed-b992-3e20fb460d6b"
      },
      "source": [
        "len(nlp.Defaults.stop_words)"
      ],
      "execution_count": 16,
      "outputs": [
        {
          "output_type": "execute_result",
          "data": {
            "text/plain": [
              "327"
            ]
          },
          "metadata": {
            "tags": []
          },
          "execution_count": 16
        }
      ]
    },
    {
      "cell_type": "code",
      "metadata": {
        "id": "QYxwByHsMcku",
        "colab_type": "code",
        "colab": {}
      },
      "source": [
        "nlp.Defaults.stop_words.add(\"Peeyush\")"
      ],
      "execution_count": 17,
      "outputs": []
    },
    {
      "cell_type": "code",
      "metadata": {
        "id": "x4jeOV3hMkRe",
        "colab_type": "code",
        "colab": {}
      },
      "source": [
        "nlp.vocab[\"Peeyush\"].is_stop = True"
      ],
      "execution_count": 18,
      "outputs": []
    },
    {
      "cell_type": "code",
      "metadata": {
        "id": "WIVCwTSJMtoK",
        "colab_type": "code",
        "colab": {
          "base_uri": "https://localhost:8080/",
          "height": 34
        },
        "outputId": "1243bfe2-9554-409f-a529-9840a48344cd"
      },
      "source": [
        "len(nlp.Defaults.stop_words)"
      ],
      "execution_count": 19,
      "outputs": [
        {
          "output_type": "execute_result",
          "data": {
            "text/plain": [
              "328"
            ]
          },
          "metadata": {
            "tags": []
          },
          "execution_count": 19
        }
      ]
    },
    {
      "cell_type": "markdown",
      "metadata": {
        "id": "5EVVc477NGUv",
        "colab_type": "text"
      },
      "source": [
        " # To remove a stop word\n",
        " ### Alternatively, you may decide that 'beyond' should not be considered a stop word."
      ]
    },
    {
      "cell_type": "code",
      "metadata": {
        "id": "cFgiA_quNJCX",
        "colab_type": "code",
        "colab": {}
      },
      "source": [
        "# Remove the word from the set of stop words.\n",
        "nlp.Defaults.stop_words.remove(\"saurabh\")\n",
        "nlp.vocab[\"Peeyush\"].is_stop = False"
      ],
      "execution_count": 24,
      "outputs": []
    },
    {
      "cell_type": "code",
      "metadata": {
        "id": "wBFDijkvNe_Y",
        "colab_type": "code",
        "colab": {
          "base_uri": "https://localhost:8080/",
          "height": 34
        },
        "outputId": "2756a3d5-5e47-4ea5-fce8-fe552e5d8cfa"
      },
      "source": [
        "len(nlp.Defaults.stop_words)"
      ],
      "execution_count": 25,
      "outputs": [
        {
          "output_type": "execute_result",
          "data": {
            "text/plain": [
              "326"
            ]
          },
          "metadata": {
            "tags": []
          },
          "execution_count": 25
        }
      ]
    },
    {
      "cell_type": "code",
      "metadata": {
        "id": "8-8EMEAdOVzS",
        "colab_type": "code",
        "colab": {}
      },
      "source": [
        "nlp.Defaults.stop_words.add(\"barasiya\")\n",
        "nlp.vocab[\"barasiya\"].is_stop = True "
      ],
      "execution_count": 26,
      "outputs": []
    },
    {
      "cell_type": "code",
      "metadata": {
        "id": "mPmMq76oOtYX",
        "colab_type": "code",
        "colab": {
          "base_uri": "https://localhost:8080/",
          "height": 34
        },
        "outputId": "c28c299b-63d8-4140-c3a0-5628a7be98c8"
      },
      "source": [
        "print(len(nlp.Defaults.stop_words))"
      ],
      "execution_count": 27,
      "outputs": [
        {
          "output_type": "stream",
          "text": [
            "327\n"
          ],
          "name": "stdout"
        }
      ]
    },
    {
      "cell_type": "code",
      "metadata": {
        "id": "ARN0fMv-O2Wp",
        "colab_type": "code",
        "colab": {
          "base_uri": "https://localhost:8080/",
          "height": 34
        },
        "outputId": "e9bf51ce-94c9-41f1-94cd-f1ef933c50f9"
      },
      "source": [
        "nlp.Defaults.stop_words.remove(\"barasiya\")\n",
        "nlp.vocab[\"barasiya\"].is_stop = False\n",
        "print(len(nlp.Defaults.stop_words))"
      ],
      "execution_count": 28,
      "outputs": [
        {
          "output_type": "stream",
          "text": [
            "326\n"
          ],
          "name": "stdout"
        }
      ]
    },
    {
      "cell_type": "code",
      "metadata": {
        "id": "YMwBiaKIPOH9",
        "colab_type": "code",
        "colab": {}
      },
      "source": [
        ""
      ],
      "execution_count": 28,
      "outputs": []
    },
    {
      "cell_type": "markdown",
      "metadata": {
        "id": "B4xVVpYzPY-b",
        "colab_type": "text"
      },
      "source": [
        "# More work"
      ]
    },
    {
      "cell_type": "code",
      "metadata": {
        "id": "2UIZBRiPPejp",
        "colab_type": "code",
        "colab": {
          "base_uri": "https://localhost:8080/",
          "height": 51
        },
        "outputId": "a02ab096-8026-4471-c81f-4bf3d30468a9"
      },
      "source": [
        "import re\n",
        "import string\n",
        "import nltk\n",
        "import spacy\n",
        "nltk.download('punkt')\n",
        "from nltk import word_tokenize,sent_tokenize \n",
        "from nltk.corpus import stopwords"
      ],
      "execution_count": 30,
      "outputs": [
        {
          "output_type": "stream",
          "text": [
            "[nltk_data] Downloading package punkt to /root/nltk_data...\n",
            "[nltk_data]   Package punkt is already up-to-date!\n"
          ],
          "name": "stdout"
        }
      ]
    },
    {
      "cell_type": "code",
      "metadata": {
        "id": "a-EhyUfBP2TA",
        "colab_type": "code",
        "colab": {}
      },
      "source": [
        "# load data\n",
        "text = 'The Quick brown fox jump over the lazy dog!'"
      ],
      "execution_count": 31,
      "outputs": []
    },
    {
      "cell_type": "code",
      "metadata": {
        "id": "Uv-NK3JCQWqH",
        "colab_type": "code",
        "colab": {
          "base_uri": "https://localhost:8080/",
          "height": 34
        },
        "outputId": "5bb5651f-100b-4177-b506-eaf9f33fd2a2"
      },
      "source": [
        "# ye words me divide karta h \n",
        "word_tokenize(text) "
      ],
      "execution_count": 35,
      "outputs": [
        {
          "output_type": "execute_result",
          "data": {
            "text/plain": [
              "['The', 'Quick', 'brown', 'fox', 'jump', 'over', 'the', 'lazy', 'dog', '!']"
            ]
          },
          "metadata": {
            "tags": []
          },
          "execution_count": 35
        }
      ]
    },
    {
      "cell_type": "code",
      "metadata": {
        "id": "ModHHyPiQoST",
        "colab_type": "code",
        "colab": {}
      },
      "source": [
        "doc = sent_tokenize(\"I am saurabh , I am peeyush\",language='english') "
      ],
      "execution_count": 42,
      "outputs": []
    },
    {
      "cell_type": "code",
      "metadata": {
        "id": "nLaHNDHERSx2",
        "colab_type": "code",
        "colab": {
          "base_uri": "https://localhost:8080/",
          "height": 34
        },
        "outputId": "94cc362a-58ee-4f10-a88a-74df158723dd"
      },
      "source": [
        "doc"
      ],
      "execution_count": 45,
      "outputs": [
        {
          "output_type": "execute_result",
          "data": {
            "text/plain": [
              "['I am saurabh , I am peeyush']"
            ]
          },
          "metadata": {
            "tags": []
          },
          "execution_count": 45
        }
      ]
    },
    {
      "cell_type": "code",
      "metadata": {
        "id": "r5a15XHVSKUl",
        "colab_type": "code",
        "colab": {
          "base_uri": "https://localhost:8080/",
          "height": 34
        },
        "outputId": "88c77e20-cb92-4c3d-9b83-2a6d639552c3"
      },
      "source": [
        "# split into words\n",
        "tokens = word_tokenize(text)\n",
        "print(tokens)"
      ],
      "execution_count": 46,
      "outputs": [
        {
          "output_type": "stream",
          "text": [
            "['The', 'Quick', 'brown', 'fox', 'jump', 'over', 'the', 'lazy', 'dog', '!']\n"
          ],
          "name": "stdout"
        }
      ]
    },
    {
      "cell_type": "code",
      "metadata": {
        "id": "lWLIXN__Sdkv",
        "colab_type": "code",
        "colab": {
          "base_uri": "https://localhost:8080/",
          "height": 34
        },
        "outputId": "1d344676-dc47-4fe5-c3b7-d211ed67faa5"
      },
      "source": [
        "# convert to lower case\n",
        "tokens = [w.lower() for w in tokens]\n",
        "print(tokens)"
      ],
      "execution_count": 47,
      "outputs": [
        {
          "output_type": "stream",
          "text": [
            "['the', 'quick', 'brown', 'fox', 'jump', 'over', 'the', 'lazy', 'dog', '!']\n"
          ],
          "name": "stdout"
        }
      ]
    },
    {
      "cell_type": "code",
      "metadata": {
        "id": "j7iFTzggSp3B",
        "colab_type": "code",
        "colab": {
          "base_uri": "https://localhost:8080/",
          "height": 34
        },
        "outputId": "f8f3c644-38ec-43e3-fd0d-fa3b540c14f5"
      },
      "source": [
        "# prepare regex for char filtering\n",
        "re_punc = re.compile('[%s]' % re.escape(string.punctuation))\n",
        "print(re_punc)"
      ],
      "execution_count": 50,
      "outputs": [
        {
          "output_type": "stream",
          "text": [
            "re.compile('[\\\\!\\\\\"\\\\#\\\\$\\\\%\\\\&\\\\\\'\\\\(\\\\)\\\\*\\\\+\\\\,\\\\-\\\\.\\\\/\\\\:\\\\;\\\\<\\\\=\\\\>\\\\?\\\\@\\\\[\\\\\\\\\\\\]\\\\^_\\\\`\\\\{\\\\|\\\\}\\\\~]')\n"
          ],
          "name": "stdout"
        }
      ]
    },
    {
      "cell_type": "code",
      "metadata": {
        "id": "6pmgXUrvS7uz",
        "colab_type": "code",
        "colab": {
          "base_uri": "https://localhost:8080/",
          "height": 34
        },
        "outputId": "1a0a6576-6e7d-4d84-974a-a564c78d7b7b"
      },
      "source": [
        "# remove punctuation from each word\n",
        "stripped = [re_punc.sub('', w) for w in tokens]\n",
        "print(stripped)"
      ],
      "execution_count": 51,
      "outputs": [
        {
          "output_type": "stream",
          "text": [
            "['the', 'quick', 'brown', 'fox', 'jump', 'over', 'the', 'lazy', 'dog', '']\n"
          ],
          "name": "stdout"
        }
      ]
    },
    {
      "cell_type": "code",
      "metadata": {
        "id": "asHw-mdfThYb",
        "colab_type": "code",
        "colab": {
          "base_uri": "https://localhost:8080/",
          "height": 34
        },
        "outputId": "f40597cd-1090-49de-9b4f-4bd2a6e6043b"
      },
      "source": [
        "# remove remaining tokens that are not alphabetic   \n",
        "words = [word for word in stripped if word.isalpha()]\n",
        "print(words)"
      ],
      "execution_count": 52,
      "outputs": [
        {
          "output_type": "stream",
          "text": [
            "['the', 'quick', 'brown', 'fox', 'jump', 'over', 'the', 'lazy', 'dog']\n"
          ],
          "name": "stdout"
        }
      ]
    },
    {
      "cell_type": "code",
      "metadata": {
        "id": "rHMlZRVcT1fG",
        "colab_type": "code",
        "colab": {
          "base_uri": "https://localhost:8080/",
          "height": 34
        },
        "outputId": "e0b38079-c9c4-4552-90ae-cbeab836d810"
      },
      "source": [
        "# filter out non-stop words\n",
        "stop_words = set(stopwords.words('english'))\n",
        "words = [w for w in words if not w in stop_words]\n",
        "print(words)"
      ],
      "execution_count": 61,
      "outputs": [
        {
          "output_type": "stream",
          "text": [
            "['quick', 'brown', 'fox', 'jump', 'lazy', 'dog']\n"
          ],
          "name": "stdout"
        }
      ]
    },
    {
      "cell_type": "code",
      "metadata": {
        "id": "MLMLO1nuUobR",
        "colab_type": "code",
        "colab": {
          "base_uri": "https://localhost:8080/",
          "height": 34
        },
        "outputId": "47b68575-2fb0-4b8b-d580-86465d52656b"
      },
      "source": [
        "nlp.vocab['dog'].is_stop"
      ],
      "execution_count": 62,
      "outputs": [
        {
          "output_type": "execute_result",
          "data": {
            "text/plain": [
              "False"
            ]
          },
          "metadata": {
            "tags": []
          },
          "execution_count": 62
        }
      ]
    },
    {
      "cell_type": "code",
      "metadata": {
        "id": "kdKXYZAcU1nU",
        "colab_type": "code",
        "colab": {}
      },
      "source": [
        ""
      ],
      "execution_count": 60,
      "outputs": []
    },
    {
      "cell_type": "code",
      "metadata": {
        "id": "To7VVwvbVeYC",
        "colab_type": "code",
        "colab": {}
      },
      "source": [
        "\n"
      ],
      "execution_count": 60,
      "outputs": []
    },
    {
      "cell_type": "code",
      "metadata": {
        "id": "W-UtOgqiWBYi",
        "colab_type": "code",
        "colab": {}
      },
      "source": [
        ""
      ],
      "execution_count": null,
      "outputs": []
    }
  ]
}